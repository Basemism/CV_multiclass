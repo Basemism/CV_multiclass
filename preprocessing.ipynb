{
 "cells": [
  {
   "cell_type": "markdown",
   "metadata": {},
   "source": [
    "# Dataset preprocessing and augmentation \n",
    "The dataset contains labeled images and corresponding ground-truth masks that indicate which pixels belong to which object or category. Make sure you familiarize yourself with the dataset structure (train/validation/test splits, image dimensions, mask formats, label classes, etc.). \n",
    "\n",
    "1.  Initially,  the  images  in  this  dataset  might  have  different  dimensions,  you  are  required  to  resize the image to make them consistent for training.  \n",
    "2.  Data augmentation: please implement data augmentation techniques as you see fit to increase your  segmentation  performance.  These  techniques  include  but  are  not  limited  to  flipping, rotation, translation, elastic transformations, color jitter, random cropping."
   ]
  }
 ],
 "metadata": {
  "language_info": {
   "name": "python"
  }
 },
 "nbformat": 4,
 "nbformat_minor": 2
}
